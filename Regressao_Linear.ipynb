{
  "nbformat": 4,
  "nbformat_minor": 0,
  "metadata": {
    "colab": {
      "provenance": [],
      "authorship_tag": "ABX9TyMwG0oRhCFLkvvi7Fbrkqj3",
      "include_colab_link": true
    },
    "kernelspec": {
      "name": "python3",
      "display_name": "Python 3"
    },
    "language_info": {
      "name": "python"
    }
  },
  "cells": [
    {
      "cell_type": "markdown",
      "metadata": {
        "id": "view-in-github",
        "colab_type": "text"
      },
      "source": [
        "<a href=\"https://colab.research.google.com/github/leticiaaraujoUCL/IA-UCL/blob/main/Regressao_Linear.ipynb\" target=\"_parent\"><img src=\"https://colab.research.google.com/assets/colab-badge.svg\" alt=\"Open In Colab\"/></a>"
      ]
    },
    {
      "cell_type": "markdown",
      "source": [
        "**Regressão Linear**\n",
        "\n",
        "Materiais:\n",
        "\n",
        "\n",
        "*   [Link](https://medium.com/@ulissesmaffa/machine-learning-regress%C3%A3o-linear-816b2ad6429)\n",
        "*   [Link\n",
        "](https://medium.com/@lauradamaceno/regress%C3%A3o-linear-6a7f247c3e29)\n",
        "\n"
      ],
      "metadata": {
        "id": "s-8KNNj798uP"
      }
    },
    {
      "cell_type": "code",
      "execution_count": null,
      "metadata": {
        "colab": {
          "base_uri": "https://localhost:8080/"
        },
        "id": "C_bdgUWV7zqg",
        "outputId": "30deceb1-63ef-4da2-d63d-b8a93bc17130"
      },
      "outputs": [
        {
          "output_type": "stream",
          "name": "stdout",
          "text": [
            "Collecting control\n",
            "  Downloading control-0.10.1-py3-none-any.whl.metadata (7.6 kB)\n",
            "Requirement already satisfied: numpy>=1.23 in /usr/local/lib/python3.10/dist-packages (from control) (1.26.4)\n",
            "Requirement already satisfied: scipy>=1.8 in /usr/local/lib/python3.10/dist-packages (from control) (1.13.1)\n",
            "Requirement already satisfied: matplotlib>=3.6 in /usr/local/lib/python3.10/dist-packages (from control) (3.7.1)\n",
            "Requirement already satisfied: contourpy>=1.0.1 in /usr/local/lib/python3.10/dist-packages (from matplotlib>=3.6->control) (1.3.0)\n",
            "Requirement already satisfied: cycler>=0.10 in /usr/local/lib/python3.10/dist-packages (from matplotlib>=3.6->control) (0.12.1)\n",
            "Requirement already satisfied: fonttools>=4.22.0 in /usr/local/lib/python3.10/dist-packages (from matplotlib>=3.6->control) (4.53.1)\n",
            "Requirement already satisfied: kiwisolver>=1.0.1 in /usr/local/lib/python3.10/dist-packages (from matplotlib>=3.6->control) (1.4.7)\n",
            "Requirement already satisfied: packaging>=20.0 in /usr/local/lib/python3.10/dist-packages (from matplotlib>=3.6->control) (24.1)\n",
            "Requirement already satisfied: pillow>=6.2.0 in /usr/local/lib/python3.10/dist-packages (from matplotlib>=3.6->control) (9.4.0)\n",
            "Requirement already satisfied: pyparsing>=2.3.1 in /usr/local/lib/python3.10/dist-packages (from matplotlib>=3.6->control) (3.1.4)\n",
            "Requirement already satisfied: python-dateutil>=2.7 in /usr/local/lib/python3.10/dist-packages (from matplotlib>=3.6->control) (2.8.2)\n",
            "Requirement already satisfied: six>=1.5 in /usr/local/lib/python3.10/dist-packages (from python-dateutil>=2.7->matplotlib>=3.6->control) (1.16.0)\n",
            "Downloading control-0.10.1-py3-none-any.whl (549 kB)\n",
            "\u001b[2K   \u001b[90m━━━━━━━━━━━━━━━━━━━━━━━━━━━━━━━━━━━━━━━━\u001b[0m \u001b[32m549.6/549.6 kB\u001b[0m \u001b[31m6.2 MB/s\u001b[0m eta \u001b[36m0:00:00\u001b[0m\n",
            "\u001b[?25hInstalling collected packages: control\n",
            "Successfully installed control-0.10.1\n"
          ]
        }
      ],
      "source": [
        "!pip3 install control\n",
        "import numpy as np\n",
        "import matplotlib.pyplot as plt\n",
        "import pandas as pd\n",
        "import random"
      ]
    },
    {
      "cell_type": "code",
      "source": [
        "# Gerar dados fictícios\n",
        "X = np.array([15,21,25,28,35,39,49])\n",
        "Y = np.array([5,7,9,8,9,11,15])\n",
        "\n",
        "# Visualizar os dados\n",
        "plt.scatter(X, Y)\n",
        "plt.xlabel(\"Ano da Safra\")\n",
        "plt.ylabel(\"Preço do Vinho\")\n",
        "plt.title(\"Relação entre Ano da Safra e Preço do Vinho\")\n",
        "plt.show()"
      ],
      "metadata": {
        "colab": {
          "base_uri": "https://localhost:8080/",
          "height": 472
        },
        "id": "nbhipJNT8K0b",
        "outputId": "72629d3d-6014-446b-d3de-97a83f26510f"
      },
      "execution_count": null,
      "outputs": [
        {
          "output_type": "display_data",
          "data": {
            "text/plain": [
              "<Figure size 640x480 with 1 Axes>"
            ],
            "image/png": "[encoded data removed]"
          },
          "metadata": {}
        }
      ]
    },
    {
      "cell_type": "markdown",
      "source": [
        "Antes de começarmos a otimizar nossos coeficientes, precisamos dar a eles um ponto de partida. Um método comum é iniciar esses coeficientes com valores aleatórios. Pode parecer estranho começar com um chute aleatório, mas essa é a beleza do método de gradiente descendente: ele nos ajudará a ajustar esses valores com base nos dados!\n",
        "\n",
        "Vamos definir m e b utilizando valores aleatórios entre -10 e 10. Esse range é apenas uma escolha arbitrária, mas serve como um bom ponto de partida.\n",
        "\n",
        "Tenha em mente que cada vez que executarmos este código, m e b terão valores diferentes. E mesmo começando de pontos diferentes, o gradiente descendente nos ajudará a encontrar os melhores valores para esses coeficientes!"
      ],
      "metadata": {
        "id": "DpnLHBo784hW"
      }
    },
    {
      "cell_type": "code",
      "source": [
        "# Definindo m e b iniciais aleatoriamente\n",
        "m = random.uniform(-10, 10)\n",
        "b = random.uniform(-10, 10)\n",
        "\n",
        "print(\"Valor inicial de m:\", m)\n",
        "print(\"Valor inicial de b:\", b)"
      ],
      "metadata": {
        "colab": {
          "base_uri": "https://localhost:8080/"
        },
        "id": "UCP6PQ-V8yaa",
        "outputId": "48383caf-0b37-42ec-a129-1aa9b83ba9f9"
      },
      "execution_count": null,
      "outputs": [
        {
          "output_type": "stream",
          "name": "stdout",
          "text": [
            "Valor inicial de m: 8.903366856821705\n",
            "Valor inicial de b: -8.642446924022115\n"
          ]
        }
      ]
    },
    {
      "cell_type": "markdown",
      "source": [
        "Este é o coração do algoritmo de regressão linear. É aqui que o ajuste da reta acontece, iterativamente, usando o método do Gradiente Descendente.\n",
        "\n",
        "Épocas (ou Iterações): Definimos o número de épocas, que é o número de vezes que vamos ajustar a reta. Em cada época, ajustamos a reta com base em todos os pontos dos nossos dados.\n",
        "Taxa de Aprendizado (ou Alpha): É um parâmetro que determina o tamanho do passo que damos na direção oposta ao gradiente. Se for muito grande, podemos ultrapassar o mínimo, e se for muito pequeno, pode demorar muito para convergir.\n",
        "Loop Interno (Por Ponto): Para cada ponto dos nossos dados, fazemos o seguinte:\n",
        "- Calculamos a previsão ypred​ usando a equação da reta.\n",
        "- Calculamos o erro como a diferença entre o valor previsto e o real.\n",
        "- Atualizamos a soma total do custo.\n",
        "- Calculamos os gradientes em relação a m e b.\n",
        "Atualização de m e b: Usando o gradiente (derivado no Passo 3), ajustamos m e b. Isso nos move na direção oposta ao gradiente, com um passo proporcional ao alpha.\n",
        "Plotagem dos Dados e da Reta: Finalmente, após todas as épocas, plotamos os dados originais e a reta ajustada para visualização."
      ],
      "metadata": {
        "id": "LiC4dtIA9AXx"
      }
    },
    {
      "cell_type": "code",
      "source": [
        "\n",
        "# Definição de épocas e alpha\n",
        "epochs = 1000\n",
        "alpha=0.0001\n",
        "# Primeiro FOR\n",
        "for epoch in range(epochs):\n",
        "  c_dm=0\n",
        "  c_db=0\n",
        "  custo=0\n",
        "  # Segundo FOR (por ponto)\n",
        "  for xi, yi in zip(X, Y):\n",
        "    y_pred = m * xi + b\n",
        "    erro = y_pred - yi\n",
        "    custo += erro**2\n",
        "    c_dm += 2 * erro * xi #gradiente do m\n",
        "    c_db += 2 * erro #gradiente do b\n",
        "\n",
        "  # Atualizando o m e o b\n",
        "  m -= alpha * c_dm\n",
        "  b -= alpha * c_db\n",
        "\n",
        "print(\"m:\", m, \"b:\", b)\n",
        "print(\"Custo:\", custo)\n",
        "\n",
        "# Plotando os dados originais\n",
        "plt.scatter(X, Y, color='blue', label='Dados Originais')\n",
        "\n",
        "# Gerando pontos para a reta\n",
        "X_line = np.linspace(min(X), max(X), 100)  # 100 pontos entre o mínimo e máximo de X_data\n",
        "Y_line = m * X_line + b\n",
        "\n",
        "# Plotando a reta\n",
        "plt.plot(X_line, Y_line, color='red', label='Reta de Regressão')\n",
        "\n",
        "# Configurações do gráfico\n",
        "plt.xlabel(\"X\")\n",
        "plt.ylabel(\"Y\")\n",
        "plt.title(\"Regressão Linear\")\n",
        "plt.legend()\n",
        "plt.show()  # Exibe o gráfico"
      ],
      "metadata": {
        "colab": {
          "base_uri": "https://localhost:8080/",
          "height": 507
        },
        "id": "hdFlHoTf9AIZ",
        "outputId": "430d60da-0008-42ab-9b83-f84cb469bfa7"
      },
      "execution_count": null,
      "outputs": [
        {
          "output_type": "stream",
          "name": "stdout",
          "text": [
            "m: 0.4489942925683121 b: -5.153270448963428\n",
            "Custo: 35.724956901933\n"
          ]
        },
        {
          "output_type": "display_data",
          "data": {
            "text/plain": [
              "<Figure size 640x480 with 1 Axes>"
            ],
            "image/png": "[encoded data removed]"
          },
          "metadata": {}
        }
      ]
    },
    {
      "cell_type": "code",
      "source": [
        "# Cálculo de R²\n",
        "y_pred = m * X + b\n",
        "ss_total = np.sum((Y - np.mean(Y)) ** 2)  # Soma total dos quadrados\n",
        "ss_residual = np.sum((Y - y_pred) ** 2)  # Soma dos quadrados residuais\n",
        "r2 = 1 - (ss_residual / ss_total)\n",
        "\n",
        "# Cálculo de MAE\n",
        "mae = np.mean(np.abs(Y - y_pred))\n",
        "\n",
        "# Exibindo os resultados\n",
        "print(f\"R²: {r2:.4f}\")\n",
        "print(f\"MAE: {mae:.4f}\")"
      ],
      "metadata": {
        "colab": {
          "base_uri": "https://localhost:8080/"
        },
        "id": "7IrerbH3EHN7",
        "outputId": "a44c1c70-f1e5-4521-9c44-9931d7b88724"
      },
      "execution_count": null,
      "outputs": [
        {
          "output_type": "stream",
          "name": "stdout",
          "text": [
            "R²: 0.4131\n",
            "MAE: 2.0599\n"
          ]
        }
      ]
    },
    {
      "cell_type": "markdown",
      "source": [],
      "metadata": {
        "id": "f9IBdRcwKUlf"
      }
    },
    {
      "cell_type": "code",
      "source": [
        "from sklearn.linear_model import LinearRegression\n",
        "import statsmodels.api as sm\n",
        "\n",
        "# variável preditora\n",
        "X = np.array([ 220, 220, 220, 220, 220, 225, 225, 225, 225, 225, 230, 230, 230, 230, 230, 235, 235, 235, 235, 235 ])\n",
        "# variável alvo\n",
        "y = np.array([ 137, 137, 137, 136, 135, 135, 133, 132, 133, 133, 128, 124, 126, 129, 126, 122, 122, 122, 119, 122 ])"
      ],
      "metadata": {
        "id": "XFP2MK_dKRlh"
      },
      "execution_count": null,
      "outputs": []
    },
    {
      "cell_type": "code",
      "source": [
        "df = pd.DataFrame()\n",
        "df['x'] = X\n",
        "df['y'] = y\n",
        "# passando os valores de x e y como Dataframes\n",
        "x_v = df[['x']]\n",
        "y_v = df[['y']]\n",
        "# criando e treinando o modelo\n",
        "model = LinearRegression()\n",
        "model.fit(x_v, y_v)\n",
        "# para visualizar os coeficientes encontrados\n",
        "model.coef_\n",
        "# para visualizar o R²\n",
        "model.score(x_v, y_v)\n",
        "# mostrando as previsões para o mesmo conjunto passado\n",
        "# model.predict(x_v)"
      ],
      "metadata": {
        "colab": {
          "base_uri": "https://localhost:8080/"
        },
        "id": "kkjN50bgLfLZ",
        "outputId": "e7ba2f3b-5b2d-4bc0-c920-e80966bebb44"
      },
      "execution_count": null,
      "outputs": [
        {
          "output_type": "execute_result",
          "data": {
            "text/plain": [
              "0.9417657045840407"
            ]
          },
          "metadata": {},
          "execution_count": 45
        }
      ]
    }
  ]
}